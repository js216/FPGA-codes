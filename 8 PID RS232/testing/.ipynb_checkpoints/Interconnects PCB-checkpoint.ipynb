{
 "cells": [
  {
   "cell_type": "markdown",
   "metadata": {},
   "source": [
    "# PID interconnects PCB\n",
    "\n",
    "Import packages:"
   ]
  },
  {
   "cell_type": "code",
   "execution_count": 2,
   "metadata": {},
   "outputs": [],
   "source": [
    "import pyvisa\n",
    "import time\n",
    "import matplotlib.pyplot as plt\n",
    "import matplotlib.patches as plt_patches\n",
    "from tqdm import tqdm_notebook\n",
    "import numpy as np\n",
    "import h5py"
   ]
  },
  {
   "cell_type": "code",
   "execution_count": 92,
   "metadata": {},
   "outputs": [],
   "source": [
    "# plot font sizes\n",
    "factor = 3\n",
    "SMALL_SIZE = factor*8\n",
    "MEDIUM_SIZE = factor*10\n",
    "BIGGER_SIZE = factor*12\n",
    "plt.rc('font', size=SMALL_SIZE)          # controls default text sizes\n",
    "plt.rc('axes', titlesize=SMALL_SIZE)     # fontsize of the axes title\n",
    "plt.rc('axes', labelsize=MEDIUM_SIZE)    # fontsize of the x and y labels\n",
    "plt.rc('xtick', labelsize=SMALL_SIZE)    # fontsize of the tick labels\n",
    "plt.rc('ytick', labelsize=SMALL_SIZE)    # fontsize of the tick labels\n",
    "plt.rc('legend', fontsize=SMALL_SIZE)    # legend fontsize\n",
    "plt.rc('figure', titlesize=BIGGER_SIZE)  # fontsize of the figure title"
   ]
  },
  {
   "cell_type": "markdown",
   "metadata": {},
   "source": [
    "Open the data file with read/write append access:"
   ]
  },
  {
   "cell_type": "code",
   "execution_count": null,
   "metadata": {},
   "outputs": [],
   "source": [
    "f = h5py.File('data2.hdf5', 'a')"
   ]
  },
  {
   "cell_type": "markdown",
   "metadata": {},
   "source": [
    "Connect to the serial devices:"
   ]
  },
  {
   "cell_type": "code",
   "execution_count": 3,
   "metadata": {},
   "outputs": [],
   "source": [
    "rm = pyvisa.ResourceManager()"
   ]
  },
  {
   "cell_type": "code",
   "execution_count": 4,
   "metadata": {},
   "outputs": [
    {
     "data": {
      "text/plain": [
       "('ASRL1::INSTR', 'ASRL13::INSTR', 'ASRL15::INSTR')"
      ]
     },
     "execution_count": 4,
     "metadata": {},
     "output_type": "execute_result"
    }
   ],
   "source": [
    "rm.list_resources()"
   ]
  },
  {
   "cell_type": "code",
   "execution_count": 5,
   "metadata": {},
   "outputs": [],
   "source": [
    "arduino = rm.open_resource('ASRL13::INSTR')"
   ]
  },
  {
   "cell_type": "markdown",
   "metadata": {},
   "source": [
    "### Arduino for serial communications\n",
    "\n",
    "Define functions for communicating with the FPGA over Arduino:"
   ]
  },
  {
   "cell_type": "code",
   "execution_count": 6,
   "metadata": {},
   "outputs": [],
   "source": [
    "def read_FPGA(cmd, num_bytes):\n",
    "    # send read command\n",
    "    arduino.write_raw(bytes(cmd, encoding=\"ascii\"))\n",
    "    time.sleep(0.01)\n",
    "    \n",
    "    # collect data\n",
    "    received_data = []\n",
    "    for i in range(num_bytes):\n",
    "        received_data.append( int(arduino.read()[:-2], 16) )\n",
    "        \n",
    "    return received_data\n",
    "\n",
    "def set_FPGA(cmd, data_list):\n",
    "    # send write command\n",
    "    arduino.write_raw(bytes(cmd, encoding=\"ascii\"))\n",
    "    time.sleep(0.01)\n",
    "    \n",
    "    # send data\n",
    "    for val in data_list:\n",
    "        arduino.write_raw(bytes(bytearray([val])))\n",
    "        time.sleep(0.01)    "
   ]
  },
  {
   "cell_type": "markdown",
   "metadata": {},
   "source": [
    "Define convenience functions for accessing individual PID parameters:"
   ]
  },
  {
   "cell_type": "code",
   "execution_count": 7,
   "metadata": {},
   "outputs": [],
   "source": [
    "def set_PID_param1(param, val):\n",
    "    # parameter sanity check\n",
    "    if not param in [\"T\", \"F\", \"N\"]:\n",
    "        print(\"ERROR: Invalid parameter.\")\n",
    "        return\n",
    "    \n",
    "    # value sanity check\n",
    "    if val > 3:\n",
    "        print(\"ERROR: Invalid value.\")\n",
    "        return\n",
    "    \n",
    "    # send 2-byte value\n",
    "    set_FPGA(param, [int(val)])\n",
    "    \n",
    "def set_PID_param2(param, val):\n",
    "    # parameter sanity check\n",
    "    if not param in [\"P\", \"I\", \"S\", \"L\"]:\n",
    "        print(\"ERROR: Invalid parameter.\")\n",
    "        return\n",
    "    \n",
    "    # value sanity check\n",
    "    if val > 0xffff:\n",
    "        print(\"ERROR: Invalid value.\")\n",
    "        return\n",
    "    \n",
    "    # send 2-byte value\n",
    "    set_FPGA(param, [int(val%256), int(val/256)])\n",
    "    \n",
    "def read_PID_param(param):\n",
    "    # parameter sanity check\n",
    "    if param in [\"t\", \"f\", \"n\"]:\n",
    "        num_bytes = 1\n",
    "    elif param in [\"p\", \"i\", \"d\", \"s\", \"l\"]:\n",
    "        num_bytes = 2\n",
    "    elif param in [\"a\", \"e\", \"o\"]:\n",
    "        num_bytes = 4\n",
    "    else:\n",
    "        print(\"ERROR: Invalid parameter.\")\n",
    "        return\n",
    "    \n",
    "    # read raw data\n",
    "    raw_result = read_FPGA(param, num_bytes)\n",
    "    \n",
    "    # convert bytes to integer\n",
    "    if param in [\"e\", \"a\"]:\n",
    "        int_result = int.from_bytes(raw_result, byteorder='big', signed=True)\n",
    "    else:\n",
    "        int_result = int.from_bytes(raw_result, byteorder='big', signed=False)\n",
    "    \n",
    "    return int_result"
   ]
  },
  {
   "cell_type": "markdown",
   "metadata": {},
   "source": [
    "Define functions to read and write to the AD9910 registers:"
   ]
  },
  {
   "cell_type": "code",
   "execution_count": 8,
   "metadata": {},
   "outputs": [],
   "source": [
    "def read_one_register(reg, printing=True):\n",
    "    # send the read command\n",
    "    arduino.write_raw(b\"1\")\n",
    "    arduino.write_raw(bytes([reg]))\n",
    "    \n",
    "    # get Arduino's return text\n",
    "    return_text = arduino.read(), arduino.read()\n",
    "    \n",
    "    if printing:\n",
    "        for t in return_text:\n",
    "            print(t, end='')\n",
    "    \n",
    "    # convert to list of integers\n",
    "    return [int(x,2) for x in return_text[1].strip()[:-1].split(\",\")]\n",
    "\n",
    "def read_registers():\n",
    "    print(arduino.query('r'), end='')\n",
    "    for i in range(23):\n",
    "        print(arduino.read(), end='')\n",
    "        \n",
    "def reset(arduino):\n",
    "    print(arduino.query('0'))\n",
    "    \n",
    "def write_register(reg, data_list, printing=False):\n",
    "    # send the write command\n",
    "    arduino.write_raw(\n",
    "        b\"w\" \\\n",
    "          + bytes(bytearray([reg])) \\\n",
    "          + bytes(bytearray(data_list))\n",
    "      )\n",
    "    \n",
    "    # print Arduino's return text\n",
    "    return_text = arduino.read(), arduino.read(), arduino.read(), arduino.read(),  arduino.read(),  arduino.read()\n",
    "    if printing:\n",
    "        for t in return_text:\n",
    "            print(t, end='')"
   ]
  },
  {
   "cell_type": "markdown",
   "metadata": {},
   "source": [
    "Define functions to calculate the frequency tuning word, and the amplitude scale factor:"
   ]
  },
  {
   "cell_type": "code",
   "execution_count": 9,
   "metadata": {},
   "outputs": [],
   "source": [
    "def FTW(Fsysclk, Fout):\n",
    "    # calculate the exact FTW\n",
    "    FTW = 2**32 * (Fout / Fsysclk)\n",
    "    \n",
    "    # round to the nearest integer\n",
    "    FTW_int = int(FTW)\n",
    "    \n",
    "    # convert to bytes\n",
    "    FTW_bytes = FTW_int.to_bytes(4, byteorder='big')\n",
    "    \n",
    "    # convert to list of integers\n",
    "    return [int(x) for x in FTW_bytes]\n",
    "\n",
    "def ASF(ASF_perc):\n",
    "    # convert from percentage to integer\n",
    "    ASF_perc_int = int(ASF_perc/100 * 2**14-1)\n",
    "    \n",
    "    # convert to bytes\n",
    "    FTW_bytes = ASF_perc_int.to_bytes(2, byteorder='big')\n",
    "    \n",
    "    # convert to list of integers\n",
    "    return [int(x) for x in FTW_bytes]"
   ]
  },
  {
   "cell_type": "markdown",
   "metadata": {},
   "source": [
    "Define functions to write (equal) amplitude & frequency values to all profiles:"
   ]
  },
  {
   "cell_type": "code",
   "execution_count": 10,
   "metadata": {},
   "outputs": [],
   "source": [
    "def set_freq_amp(clock_freq, out_freq, amplitude_percentage=100):\n",
    "    for reg in range(0x0E, 0x15 + 1):\n",
    "        write_register(\n",
    "            reg,\n",
    "            ASF(amplitude_percentage) + [0b00000000, 0b00000000] + FTW(clock_freq, out_freq),\n",
    "            printing=False\n",
    "          )"
   ]
  },
  {
   "cell_type": "markdown",
   "metadata": {},
   "source": [
    "Define functions to enable/disable certain features of the AD9910:"
   ]
  },
  {
   "cell_type": "code",
   "execution_count": 11,
   "metadata": {},
   "outputs": [],
   "source": [
    "def enable_parallel_port(enable = False):\n",
    "    # read register 0x01\n",
    "    val = read_one_register(0x01, printing=False)\n",
    "    \n",
    "    # flip the \"Parallel data port enable\" bit\n",
    "    if enable:\n",
    "        set_PID_param1(\"T\", 1) # set TxENABLE = 1\n",
    "        val[3] |= 0b00010000\n",
    "    else:\n",
    "        set_PID_param1(\"T\", 1) # set TxENABLE = 0\n",
    "        val[3] &= 0b11101111\n",
    "    \n",
    "    # write the new register values\n",
    "    write_register(0x01, val)\n",
    "    \n",
    "def parallel_mode(mode):\n",
    "    if mode == \"AM\": # amplitude modulation\n",
    "        set_PID_param1(\"F\", 0b00)\n",
    "    elif mode == \"PM\": # phase modulation\n",
    "        set_PID_param1(\"F\", 0b01)\n",
    "    elif mode == \"FM\": # frequency modulation\n",
    "        set_PID_param1(\"F\", 0b10)\n",
    "    elif mode == \"AP\": # amplitude & phase modulation\n",
    "        set_PID_param1(\"F\", 0b11)\n",
    "    else:\n",
    "        print(\"ERROR: Invalid mode.\")\n",
    "        return\n",
    "        \n",
    "def enable_ASF(enable = False):\n",
    "    # read register 0x01\n",
    "    val = read_one_register(0x01, printing=False)\n",
    "    \n",
    "    # flip the \"Enable amplitude scale from single ton profiles\" bit\n",
    "    if enable:\n",
    "        val[0] |= 0b00000001\n",
    "    else:\n",
    "        val[0] &= 0b11111110\n",
    "    \n",
    "    # write the new register values\n",
    "    write_register(0x01, val)\n",
    "        \n",
    "def enable_refclk_divider(enable = False):\n",
    "    # read register 0x02\n",
    "    val = read_one_register(0x02, printing=False)\n",
    "    \n",
    "    # flip the \"REFCLK input divider bypass\" bit\n",
    "    if enable:\n",
    "        val[2] &= 0b01111111\n",
    "    else:\n",
    "        val[2] |= 0b10000000\n",
    "    \n",
    "    # write the new register values\n",
    "    write_register(0x02, val)"
   ]
  },
  {
   "cell_type": "markdown",
   "metadata": {},
   "source": [
    "### Test 1: PID control of AD9910 output power\n",
    "\n",
    "Consider using the FPGA PID controller to control the RF power ouput from the AD9910 DDS IC, as measured by the Mini-Circuits ZX47-50-S+ power detector:\n",
    "\n",
    "![](AD9910.png)"
   ]
  },
  {
   "cell_type": "markdown",
   "metadata": {},
   "source": [
    "Define functions to convert between ADC result and voltage, and from power detector voltage to RF power:"
   ]
  },
  {
   "cell_type": "code",
   "execution_count": 75,
   "metadata": {},
   "outputs": [],
   "source": [
    "def ADC_to_voltage(ADC_result):\n",
    "    return ADC_result * 3.378 / (2**16-1)\n",
    "\n",
    "def voltage_to_ADC(voltage):\n",
    "    return voltage / 3.378 * (2**16-1)\n",
    "\n",
    "def voltage_to_dBm(voltage):\n",
    "    return 32 - 40*voltage\n",
    "\n",
    "def dBm_to_voltage(dBm):\n",
    "    return 0.8 - dBm/40\n",
    "\n",
    "def dBm_to_ADC(dBm):\n",
    "    return voltage_to_ADC(dBm_to_voltage(dBm))\n",
    "\n",
    "def ADC_to_dBm(ADC_result):\n",
    "    return voltage_to_dBm(ADC_to_voltage(ADC_result))"
   ]
  },
  {
   "cell_type": "markdown",
   "metadata": {},
   "source": [
    "Set the AD9910 for 85 MHz output from a 384 MHz clock (internal clock divider disabled), with parallel port enabled and set for amplitude modulation:"
   ]
  },
  {
   "cell_type": "code",
   "execution_count": 12,
   "metadata": {},
   "outputs": [],
   "source": [
    "set_freq_amp(clock_freq=384e6, out_freq=85e6)\n",
    "enable_refclk_divider(False)\n",
    "enable_parallel_port(True)\n",
    "parallel_mode(\"AM\")"
   ]
  },
  {
   "cell_type": "markdown",
   "metadata": {},
   "source": [
    "Define a function to do a scan of setpoint values:"
   ]
  },
  {
   "cell_type": "code",
   "execution_count": 41,
   "metadata": {},
   "outputs": [],
   "source": [
    "def setpoint_scan(setpoint_range, settling_time):\n",
    "    vals = []\n",
    "    for setpoint in tqdm_notebook(setpoint_range):\n",
    "        # set value\n",
    "        set_PID_param2(\"S\", setpoint)\n",
    "\n",
    "        # wait for things to settle\n",
    "        time.sleep(settling_time)\n",
    "\n",
    "        # measure PID output\n",
    "        vals.append( read_PID_param(\"o\") )\n",
    "    \n",
    "    return np.array([setpoint_range, vals])"
   ]
  },
  {
   "cell_type": "markdown",
   "metadata": {},
   "source": [
    "Set PID parameters, then measure PID output vs the setpoint:"
   ]
  },
  {
   "cell_type": "code",
   "execution_count": 90,
   "metadata": {},
   "outputs": [
    {
     "data": {
      "application/vnd.jupyter.widget-view+json": {
       "model_id": "3cdc989052684d708f1b73876605c99c",
       "version_major": 2,
       "version_minor": 0
      },
      "text/plain": [
       "HBox(children=(IntProgress(value=0), HTML(value='')))"
      ]
     },
     "metadata": {},
     "output_type": "display_data"
    },
    {
     "name": "stdout",
     "output_type": "stream",
     "text": [
      "\n"
     ]
    }
   ],
   "source": [
    "# scan parameters\n",
    "setpoint_range = np.linspace(dBm_to_ADC(-27), dBm_to_ADC(-5), 100)\n",
    "settling_time = 0.1\n",
    "\n",
    "# PID parameters\n",
    "set_PID_param1(\"N\", 1)       # invert output\n",
    "set_PID_param2(\"P\", 0)       # proportional constant\n",
    "set_PID_param2(\"I\", 3)       # integral constant\n",
    "set_PID_param2(\"L\", 0xffff ) # output limit\n",
    "set_PID_param2(\"S\", setpoint_range[0]) # setpoint\n",
    "\n",
    "\n",
    "# do the scan\n",
    "time.sleep(5)\n",
    "result = setpoint_scan(setpoint_range, settling_time)"
   ]
  },
  {
   "cell_type": "code",
   "execution_count": 94,
   "metadata": {},
   "outputs": [
    {
     "data": {
      "image/png": "[encoded data removed]",
      "text/plain": [
       "<Figure size 432x288 with 1 Axes>"
      ]
     },
     "metadata": {},
     "output_type": "display_data"
    }
   ],
   "source": [
    "# plot results\n",
    "plt.plot(ADC_to_dBm(result[0]), result[1]/(2**31-1), lw=3, color=\"black\")\n",
    "plt.xlabel(\"setpoint [dBm]\")\n",
    "plt.ylabel(\"PID output [norm.]\")\n",
    "plt.grid();"
   ]
  }
 ],
 "metadata": {
  "kernelspec": {
   "display_name": "Python 3",
   "language": "python",
   "name": "python3"
  },
  "language_info": {
   "codemirror_mode": {
    "name": "ipython",
    "version": 3
   },
   "file_extension": ".py",
   "mimetype": "text/x-python",
   "name": "python",
   "nbconvert_exporter": "python",
   "pygments_lexer": "ipython3",
   "version": "3.6.5"
  }
 },
 "nbformat": 4,
 "nbformat_minor": 2
}
